{
 "cells": [
  {
   "cell_type": "markdown",
   "metadata": {},
   "source": [
    "# Homework 5.4"
   ]
  },
  {
   "cell_type": "code",
   "execution_count": 2,
   "metadata": {
    "collapsed": true
   },
   "outputs": [],
   "source": [
    "import numpy as np\n",
    "import matplotlib.pyplot as plt"
   ]
  },
  {
   "cell_type": "code",
   "execution_count": 3,
   "metadata": {
    "collapsed": true
   },
   "outputs": [],
   "source": [
    "def multiscatter(*data):\n",
    "    colors = ['b', 'r', 'y', 'g']\n",
    "    fig = plt.figure()\n",
    "    ax = fig.add_subplot(111)\n",
    "    for i in range(len(data)):\n",
    "        x, y = data[i]\n",
    "        ax.scatter(x, y, s=10, c=colors[i])\n",
    "    plt.show()"
   ]
  },
  {
   "cell_type": "markdown",
   "metadata": {},
   "source": [
    "### Forward euler"
   ]
  },
  {
   "cell_type": "code",
   "execution_count": 4,
   "metadata": {
    "collapsed": true
   },
   "outputs": [],
   "source": [
    "k = 2\n",
    "m = 0.5\n",
    "\n",
    "def xdot(x, v): return v\n",
    "def vdot(x, v): return -x*(k/m)"
   ]
  },
  {
   "cell_type": "code",
   "execution_count": 5,
   "metadata": {
    "collapsed": true
   },
   "outputs": [],
   "source": [
    "def next(xv, dt):\n",
    "    x, v = xv;\n",
    "    return (x + dt * xdot(x, v), v + dt * vdot(x, v))\n"
   ]
  },
  {
   "cell_type": "code",
   "execution_count": 9,
   "metadata": {
    "collapsed": true
   },
   "outputs": [],
   "source": [
    "\n",
    "def iterateFE(dt, n, xv0):\n",
    "    trajectory = [(0, xv0)]\n",
    "    for i in range(n):\n",
    "        t = trajectory[-1][0]\n",
    "        lastPoint = trajectory[-1][1]\n",
    "        trajectory.append((t + dt, next(lastPoint, dt)))\n",
    "    return trajectory"
   ]
  },
  {
   "cell_type": "code",
   "execution_count": 10,
   "metadata": {},
   "outputs": [
    {
     "data": {
      "text/plain": [
       "[(0, (-1, -2)),\n",
       " (0.1, (-1.2, -1.6)),\n",
       " (0.2, (-1.3599999999999999, -1.12)),\n",
       " (0.30000000000000004, (-1.472, -0.5760000000000002)),\n",
       " (0.4, (-1.5296, 0.012799999999999812)),\n",
       " (0.5, (-1.5283200000000001, 0.6246399999999999))]"
      ]
     },
     "execution_count": 10,
     "metadata": {},
     "output_type": "execute_result"
    }
   ],
   "source": [
    "xv0 = (-1, -2)\n",
    "iterateFE(0.1, 5, xv0)"
   ]
  },
  {
   "cell_type": "code",
   "execution_count": 11,
   "metadata": {},
   "outputs": [
    {
     "data": {
      "image/png": "[encoded data removed]",
      "text/plain": [
       "<matplotlib.figure.Figure at 0x7f00b23ba710>"
      ]
     },
     "metadata": {},
     "output_type": "display_data"
    }
   ],
   "source": [
    "traj = iterateFE(0.1, 200, xv0)\n",
    "X = [xv[0] for (t, xv) in traj]\n",
    "V = [xv[1] for (t, xv) in traj]\n",
    "plt.scatter(X, V)\n",
    "plt.show()"
   ]
  },
  {
   "cell_type": "code",
   "execution_count": 12,
   "metadata": {},
   "outputs": [
    {
     "data": {
      "image/png": "[encoded data removed]",
      "text/plain": [
       "<matplotlib.figure.Figure at 0x7f00b2459bd0>"
      ]
     },
     "metadata": {},
     "output_type": "display_data"
    }
   ],
   "source": [
    "trajA = iterateFE(0.1, 200, xv0)\n",
    "Xa = [xv[0] for (t, xv) in trajA]\n",
    "Va = [xv[1] for (t, xv) in trajA]\n",
    "\n",
    "trajB = iterateFE(0.11, 200, xv0)\n",
    "Xb = [xv[0] for (t, xv) in trajB]\n",
    "Vb = [xv[1] for (t, xv) in trajB]\n",
    "\n",
    "\n",
    "multiscatter(\n",
    "    (Xa, Va),\n",
    "    (Xb, Vb)\n",
    ")"
   ]
  },
  {
   "cell_type": "markdown",
   "metadata": {},
   "source": [
    "### Backward euler\n",
    "\n",
    "**Going to do this in vector form**"
   ]
  },
  {
   "cell_type": "code",
   "execution_count": 15,
   "metadata": {},
   "outputs": [
    {
     "data": {
      "text/plain": [
       "[(0, array([-1, -2])),\n",
       " (0.05, array([-1.1, -1.8])),\n",
       " (0.1, array([-1.19, -1.58])),\n",
       " (0.15000000000000002, array([-1.269, -1.342])),\n",
       " (0.2, array([-1.3361, -1.0882])),\n",
       " (0.25, array([-1.39051, -0.82098])),\n",
       " (0.3, array([-1.431559, -0.542878])),\n",
       " (0.35, array([-1.4587029, -0.2565662])),\n",
       " (0.39999999999999997, array([-1.47153121,  0.03517438])),\n",
       " (0.44999999999999996, array([-1.46977249,  0.32948062])),\n",
       " (0.49999999999999994, array([-1.45329846,  0.62343512]))]"
      ]
     },
     "execution_count": 15,
     "metadata": {},
     "output_type": "execute_result"
    }
   ],
   "source": [
    "k, m = 2, 0.5\n",
    "F = np.array([[0,1], [-k/m, 0]]) # the ode\n",
    "dt = 0.05\n",
    "\n",
    "def iterate(next, dt, n, xv0):\n",
    "    trajectory = [(0, xv0)]\n",
    "    for i in range(n):\n",
    "        t = trajectory[-1][0]\n",
    "        lastPoint = trajectory[-1][1]\n",
    "        trajectory.append((t + dt, next(lastPoint, dt)))\n",
    "    return trajectory\n",
    "\n",
    "\n",
    "xv0 = np.transpose([-1, -2])\n",
    "iterate(nextForwardEuler, 0.05, 10, xv0)"
   ]
  },
  {
   "cell_type": "code",
   "execution_count": 14,
   "metadata": {},
   "outputs": [
    {
     "name": "stdout",
     "output_type": "stream",
     "text": [
      "[-1.1 -1.8]\n"
     ]
    },
    {
     "data": {
      "text/plain": [
       "[(0, array([-1, -2])),\n",
       " (0.05, array([-1.1, -1.8])),\n",
       " (0.1, array([-1.19, -1.58])),\n",
       " (0.15000000000000002, array([-1.269, -1.342])),\n",
       " (0.2, array([-1.3361, -1.0882])),\n",
       " (0.25, array([-1.39051, -0.82098])),\n",
       " (0.3, array([-1.431559, -0.542878])),\n",
       " (0.35, array([-1.4587029, -0.2565662])),\n",
       " (0.39999999999999997, array([-1.47153121,  0.03517438])),\n",
       " (0.44999999999999996, array([-1.46977249,  0.32948062])),\n",
       " (0.49999999999999994, array([-1.45329846,  0.62343512]))]"
      ]
     },
     "execution_count": 14,
     "metadata": {},
     "output_type": "execute_result"
    }
   ],
   "source": [
    "# forward euler sanity check\n",
    "\n",
    "# xv0 = np.transpose([-1, -2])\n",
    "# xv1 = xv0 + np.dot(dt*F, xv0)\n",
    "# print xv1\n",
    "\n",
    "def nextForwardEuler(xv, dt):\n",
    "    return xv + np.dot(dt*F, xv)\n",
    "\n",
    "xv0 = np.transpose([-1, -2])\n",
    "xv1 = nextForwardEuler(xv0, dt)\n",
    "print xv1\n",
    "\n",
    "xv0 = np.transpose([-1, -2])\n",
    "iterate(nextForwardEuler, 0.05, 10, xv0)"
   ]
  },
  {
   "cell_type": "code",
   "execution_count": 17,
   "metadata": {
    "collapsed": true
   },
   "outputs": [],
   "source": [
    "I = np.identity(2)\n",
    "\n",
    "# This was derived by solving for the next point, rather\n",
    "# than using the next point from forward euler\n",
    "def nextBackwardEulerWrong(xv, dt):\n",
    "    return np.dot(np.linalg.inv(I - dt*F), xv) # THIS IS NOT RIGHT\n",
    "\n",
    "def nextBackwardEuler(xv, dt):\n",
    "    nextForward = xv + np.dot(dt*F, xv)\n",
    "    return xv + np.dot(dt*F, nextForward)\n"
   ]
  },
  {
   "cell_type": "code",
   "execution_count": 18,
   "metadata": {},
   "outputs": [
    {
     "data": {
      "text/plain": [
       "[(0, array([-1, -2])),\n",
       " (0.1, array([-1.16, -1.52])),\n",
       " (0.2, array([-1.2656, -0.9952])),\n",
       " (0.30000000000000004, array([-1.314496, -0.449152])),\n",
       " (0.4, array([-1.30683136,  0.09461248])),\n",
       " (0.5, array([-1.24509686,  0.61356052])),\n",
       " (0.6, array([-1.13393693,  1.08705685]))]"
      ]
     },
     "execution_count": 18,
     "metadata": {},
     "output_type": "execute_result"
    }
   ],
   "source": [
    "xv0 = np.transpose([-1, -2])\n",
    "iterate(nextBackwardEuler, 0.1, 6, xv0)"
   ]
  },
  {
   "cell_type": "code",
   "execution_count": 19,
   "metadata": {},
   "outputs": [
    {
     "data": {
      "image/png": "[encoded data removed]",
      "text/plain": [
       "<matplotlib.figure.Figure at 0x7f00b26cfc50>"
      ]
     },
     "metadata": {},
     "output_type": "display_data"
    }
   ],
   "source": [
    "# Comparing two timesteps for backward euler\n",
    "\n",
    "trajA = iterate(nextBackwardEuler, 0.1, 200, xv0)\n",
    "Xa = [xv[0] for (t, xv) in trajA]\n",
    "Va = [xv[1] for (t, xv) in trajA]\n",
    "\n",
    "trajB = iterate(nextBackwardEuler, 0.11, 200, xv0)\n",
    "Xb = [xv[0] for (t, xv) in trajB]\n",
    "Vb = [xv[1] for (t, xv) in trajB]\n",
    "\n",
    "multiscatter(\n",
    "    (Xa, Va),\n",
    "    (Xb, Vb)\n",
    ")"
   ]
  },
  {
   "cell_type": "code",
   "execution_count": 20,
   "metadata": {},
   "outputs": [
    {
     "data": {
      "image/png": "[encoded data removed]",
      "text/plain": [
       "<matplotlib.figure.Figure at 0x7f00b01d9450>"
      ]
     },
     "metadata": {},
     "output_type": "display_data"
    }
   ],
   "source": [
    "trajA = iterate(nextForwardEuler, 0.1, 50, xv0)\n",
    "Xa = [xv[0] for (t, xv) in trajA]\n",
    "Va = [xv[1] for (t, xv) in trajA]\n",
    "\n",
    "trajB = iterate(nextBackwardEuler, 0.1, 50, xv0)\n",
    "Xb = [xv[0] for (t, xv) in trajB]\n",
    "Vb = [xv[1] for (t, xv) in trajB]\n",
    "\n",
    "multiscatter(\n",
    "    (Xa, Va),\n",
    "    (Xb, Vb)\n",
    ")"
   ]
  },
  {
   "cell_type": "code",
   "execution_count": null,
   "metadata": {
    "collapsed": true
   },
   "outputs": [],
   "source": []
  },
  {
   "cell_type": "markdown",
   "metadata": {},
   "source": [
    "### Something made up\n",
    "\n",
    "**50/50 forward/backward**\n",
    "\n",
    "... okay I think that this is actually the trapezoidal method"
   ]
  },
  {
   "cell_type": "code",
   "execution_count": 21,
   "metadata": {
    "collapsed": true
   },
   "outputs": [],
   "source": [
    "k, m = 2, 0.5\n",
    "F = np.array([[0,1], [-k/m, 0]]) # the ode\n",
    "I = np.identity(2)"
   ]
  },
  {
   "cell_type": "code",
   "execution_count": 22,
   "metadata": {
    "collapsed": true
   },
   "outputs": [],
   "source": [
    "a = 0.5\n",
    "def nextMixed(xv, dt):\n",
    "    nextForward = nextForwardEuler(xv, dt)\n",
    "#     nextBackward = nextBackwardEuler(xv, dt)\n",
    "    xvMixed = a*xv + (1-a)*nextForward;\n",
    "    return xv + np.dot(dt*F, xvMixed)\n"
   ]
  },
  {
   "cell_type": "code",
   "execution_count": 23,
   "metadata": {},
   "outputs": [
    {
     "data": {
      "image/png": "[encoded data removed]",
      "text/plain": [
       "<matplotlib.figure.Figure at 0x7f00b01c7f50>"
      ]
     },
     "metadata": {},
     "output_type": "display_data"
    }
   ],
   "source": [
    "xv0 = np.transpose([-1, -2])\n",
    "trajA = iterate(nextForwardEuler, 0.1, 50, xv0)\n",
    "Xa = [xv[0] for (t, xv) in trajA]\n",
    "Va = [xv[1] for (t, xv) in trajA]\n",
    "\n",
    "trajB = iterate(nextBackwardEuler, 0.1, 50, xv0)\n",
    "Xb = [xv[0] for (t, xv) in trajB]\n",
    "Vb = [xv[1] for (t, xv) in trajB]\n",
    "\n",
    "trajC = iterate(nextMixed, 0.1, 50, xv0)\n",
    "Xc = [xv[0] for (t, xv) in trajC]\n",
    "Vc = [xv[1] for (t, xv) in trajC]\n",
    "\n",
    "multiscatter(\n",
    "    (Xa, Va),\n",
    "    (Xb, Vb),\n",
    "    (Xc, Vc)\n",
    ")"
   ]
  },
  {
   "cell_type": "code",
   "execution_count": 34,
   "metadata": {},
   "outputs": [
    {
     "data": {
      "text/plain": [
       "[(0, array([-1, -2])),\n",
       " (0.05, array([-1.095, -1.79 ])),\n",
       " (0.1, array([-1.179025, -1.56205 ])),\n",
       " (0.15000000000000002, array([-1.25123238, -1.31843475])),\n",
       " (0.2, array([-1.31089795, -1.0615961 ])),\n",
       " (0.25, array([-1.35742327, -0.79410853])),\n",
       " (0.3, array([-1.39034158, -0.51865333])),\n",
       " (0.35, array([-1.40932253, -0.23799175])),\n",
       " (0.39999999999999997, array([-1.41417551,  0.04506271])),\n",
       " (0.44999999999999996, array([-1.4048515,  0.3276725])),\n",
       " (0.49999999999999994, array([-1.38144361,  0.60700444])),\n",
       " (0.5499999999999999, array([-1.34418617,  0.88025814]))]"
      ]
     },
     "execution_count": 34,
     "metadata": {},
     "output_type": "execute_result"
    }
   ],
   "source": [
    "k, m = 2, 0.5\n",
    "xv0 = np.transpose([-1, -2])\n",
    "\n",
    "iterate(nextMixed, 0.05, 11, xv0)"
   ]
  },
  {
   "cell_type": "code",
   "execution_count": 25,
   "metadata": {},
   "outputs": [
    {
     "data": {
      "image/png": "[encoded data removed]",
      "text/plain": [
       "<matplotlib.figure.Figure at 0x7f00b00c9550>"
      ]
     },
     "metadata": {},
     "output_type": "display_data"
    }
   ],
   "source": [
    "trajA = iterate(nextMixed, 0.05, 500, xv0)\n",
    "Xa = [xv[0] for (t, xv) in trajA]\n",
    "Va = [xv[1] for (t, xv) in trajA]\n",
    "\n",
    "multiscatter(\n",
    "    (Xa, Va)\n",
    ")"
   ]
  },
  {
   "cell_type": "code",
   "execution_count": 26,
   "metadata": {},
   "outputs": [
    {
     "data": {
      "image/png": "[encoded data removed]",
      "text/plain": [
       "<matplotlib.figure.Figure at 0x7f00b00a4510>"
      ]
     },
     "metadata": {},
     "output_type": "display_data"
    }
   ],
   "source": [
    "trajA = iterate(nextMixed, 0.01, 5000, xv0)\n",
    "Xa = [xv[0] for (t, xv) in trajA]\n",
    "Va = [xv[1] for (t, xv) in trajA]\n",
    "\n",
    "multiscatter(\n",
    "    (Xa, Va)\n",
    ")"
   ]
  },
  {
   "cell_type": "markdown",
   "metadata": {},
   "source": [
    "### RK 4"
   ]
  },
  {
   "cell_type": "code",
   "execution_count": 27,
   "metadata": {
    "collapsed": true
   },
   "outputs": [],
   "source": [
    "k, m = 2, 0.5\n",
    "F = np.array([[0,1], [-k/m, 0]]) # the ode\n",
    "I = np.identity(2)"
   ]
  },
  {
   "cell_type": "code",
   "execution_count": 28,
   "metadata": {
    "collapsed": true
   },
   "outputs": [],
   "source": [
    "def nextRK4(xv, dt):\n",
    "    k1 = np.dot(F, xv)\n",
    "    k2 = np.dot(F, (xv + (dt/2)*k1))\n",
    "    k3 = np.dot(F, (xv + (dt/2)*k2))\n",
    "    k4 = np.dot(F, (xv + dt*k3))\n",
    "    \n",
    "    return xv + (dt/6)*(k1 + 2*k2 + 2*k3 + k4);"
   ]
  },
  {
   "cell_type": "code",
   "execution_count": 29,
   "metadata": {},
   "outputs": [
    {
     "name": "stdout",
     "output_type": "stream",
     "text": [
      "[-2.73283604  1.46042093]\n"
     ]
    }
   ],
   "source": [
    "xv0 = np.transpose([-1, -2])\n",
    "k1 = np.dot(F, xv)\n",
    "k2 = np.dot(F, (xv + (dt/2)*k1))\n",
    "\n",
    "print(k1)\n"
   ]
  },
  {
   "cell_type": "code",
   "execution_count": 30,
   "metadata": {},
   "outputs": [
    {
     "data": {
      "image/png": "[encoded data removed]",
      "text/plain": [
       "<matplotlib.figure.Figure at 0x7f00b0297210>"
      ]
     },
     "metadata": {},
     "output_type": "display_data"
    }
   ],
   "source": [
    "xv0 = np.transpose([-1, -2])\n",
    "trajA = iterate(nextRK4, 0.1, 50, xv0)\n",
    "Xa = [xv[0] for (t, xv) in trajA]\n",
    "Va = [xv[1] for (t, xv) in trajA]\n",
    "\n",
    "multiscatter(\n",
    "    (Xa, Va)\n",
    ")"
   ]
  },
  {
   "cell_type": "markdown",
   "metadata": {},
   "source": [
    "#### Lorenz system"
   ]
  },
  {
   "cell_type": "code",
   "execution_count": null,
   "metadata": {
    "collapsed": true
   },
   "outputs": [],
   "source": []
  },
  {
   "cell_type": "code",
   "execution_count": 48,
   "metadata": {},
   "outputs": [
    {
     "data": {
      "text/plain": [
       "0.6826061944859854"
      ]
     },
     "execution_count": 48,
     "metadata": {},
     "output_type": "execute_result"
    }
   ],
   "source": [
    "math.log(3)/math.log(5)"
   ]
  },
  {
   "cell_type": "code",
   "execution_count": 68,
   "metadata": {
    "collapsed": true
   },
   "outputs": [],
   "source": [
    "def c(n,m): return math.log(m*1.0-n) / math.log(m*1.0)"
   ]
  },
  {
   "cell_type": "code",
   "execution_count": 55,
   "metadata": {},
   "outputs": [
    {
     "data": {
      "text/plain": [
       "0.6826061944859854"
      ]
     },
     "execution_count": 55,
     "metadata": {},
     "output_type": "execute_result"
    }
   ],
   "source": [
    "c(2,5)"
   ]
  },
  {
   "cell_type": "code",
   "execution_count": 56,
   "metadata": {},
   "outputs": [
    {
     "data": {
      "text/plain": [
       "0.8613531161467861"
      ]
     },
     "execution_count": 56,
     "metadata": {},
     "output_type": "execute_result"
    }
   ],
   "source": [
    "c(1,5)"
   ]
  },
  {
   "cell_type": "code",
   "execution_count": 57,
   "metadata": {},
   "outputs": [
    {
     "data": {
      "text/plain": [
       "0.6309297535714574"
      ]
     },
     "execution_count": 57,
     "metadata": {},
     "output_type": "execute_result"
    }
   ],
   "source": [
    "c(1,3)"
   ]
  },
  {
   "cell_type": "code",
   "execution_count": 69,
   "metadata": {},
   "outputs": [
    {
     "data": {
      "text/plain": [
       "[0.6309297535714574, 0.6826061944859854, 0.8613531161467861]"
      ]
     },
     "execution_count": 69,
     "metadata": {},
     "output_type": "execute_result"
    }
   ],
   "source": [
    "[c(1,3), c(2,5), c(1,5)]"
   ]
  },
  {
   "cell_type": "code",
   "execution_count": 70,
   "metadata": {},
   "outputs": [
    {
     "data": {
      "text/plain": [
       "(0.3333333333333333, 0.4, 0.2)"
      ]
     },
     "execution_count": 70,
     "metadata": {},
     "output_type": "execute_result"
    }
   ],
   "source": [
    "1./3, 2./5, 1./5"
   ]
  },
  {
   "cell_type": "code",
   "execution_count": 74,
   "metadata": {},
   "outputs": [
    {
     "data": {
      "text/plain": [
       "0.75647079736603"
      ]
     },
     "execution_count": 74,
     "metadata": {},
     "output_type": "execute_result"
    }
   ],
   "source": [
    "math.log(2)/math.log(5./2)"
   ]
  },
  {
   "cell_type": "code",
   "execution_count": 75,
   "metadata": {},
   "outputs": [
    {
     "data": {
      "text/plain": [
       "(0.6666666666666666, 0.6, 0.8)"
      ]
     },
     "execution_count": 75,
     "metadata": {},
     "output_type": "execute_result"
    }
   ],
   "source": [
    "2./3, 3./5, 4./5"
   ]
  },
  {
   "cell_type": "code",
   "execution_count": null,
   "metadata": {
    "collapsed": true
   },
   "outputs": [],
   "source": []
  }
 ],
 "metadata": {
  "kernelspec": {
   "display_name": "Python 2",
   "language": "python",
   "name": "python2"
  },
  "language_info": {
   "codemirror_mode": {
    "name": "ipython",
    "version": 2
   },
   "file_extension": ".py",
   "mimetype": "text/x-python",
   "name": "python",
   "nbconvert_exporter": "python",
   "pygments_lexer": "ipython2",
   "version": "2.7.12"
  }
 },
 "nbformat": 4,
 "nbformat_minor": 2
}
